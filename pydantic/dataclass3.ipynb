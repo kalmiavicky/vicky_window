{
 "cells": [
  {
   "cell_type": "code",
   "execution_count": 4,
   "metadata": {},
   "outputs": [],
   "source": [
    "from pydantic import BaseModel\n",
    "\n",
    "class InventoryItem(BaseModel):\n",
    "    \"\"\"Class for keeping track of an item in inventory.\"\"\"\n",
    "    name: str\n",
    "    unit_price: float\n",
    "    quantity_on_hand: int = 0 "
   ]
  },
  {
   "cell_type": "code",
   "execution_count": 5,
   "metadata": {},
   "outputs": [
    {
     "name": "stdout",
     "output_type": "stream",
     "text": [
      "name='手機套' unit_price=150.5 quantity_on_hand=0\n"
     ]
    }
   ],
   "source": [
    "#unit_price的字串,自動轉換為float\n",
    "item1 = InventoryItem(name=\"手機套\",unit_price=\"150.5\")\n",
    "print(item1)\n",
    "\n",
    "#item1.name, item1.unit_price, item1.quantity_on_hand"
   ]
  },
  {
   "cell_type": "code",
   "execution_count": 6,
   "metadata": {},
   "outputs": [
    {
     "name": "stdout",
     "output_type": "stream",
     "text": [
      "1 validation error for InventoryItem\n",
      "quantity_on_hand\n",
      "  Input should be a valid integer, unable to parse string as an integer [type=int_parsing, input_value='15.5', input_type=str]\n",
      "    For further information visit https://errors.pydantic.dev/2.7/v/int_parsing\n"
     ]
    }
   ],
   "source": [
    "#unit_price的字串,自動轉換為int失敗,需要手動轉換,raise ValidationError\n",
    "from pydantic import ValidationError\n",
    "try:\n",
    "    item1 = InventoryItem(name=\"手機套\",unit_price=\"150.5\",quantity_on_hand='15.5')\n",
    "    print(item1)\n",
    "except ValidationError as e:\n",
    "    print(e)"
   ]
  },
  {
   "cell_type": "code",
   "execution_count": 7,
   "metadata": {},
   "outputs": [
    {
     "name": "stdout",
     "output_type": "stream",
     "text": [
      "name='手機套' unit_price=150.5 quantity_on_hand=15\n"
     ]
    }
   ],
   "source": [
    "#unit_price的字串,自動轉換為int\n",
    "from pydantic import ValidationError\n",
    "try:\n",
    "    item1 = InventoryItem(name=\"手機套\",unit_price=\"150.5\",quantity_on_hand='15')\n",
    "    print(item1)\n",
    "except ValidationError as e:\n",
    "    print(e) "
   ]
  },
  {
   "cell_type": "code",
   "execution_count": 8,
   "metadata": {},
   "outputs": [],
   "source": [
    "#使用class method \n",
    "#model_validate(dict)\n",
    "#model_validate_json(json格式的字串)"
   ]
  },
  {
   "cell_type": "code",
   "execution_count": 9,
   "metadata": {},
   "outputs": [
    {
     "name": "stdout",
     "output_type": "stream",
     "text": [
      "name='手機套' unit_price=150.5 quantity_on_hand=15\n"
     ]
    }
   ],
   "source": [
    "from pydantic import BaseModel\n",
    "\n",
    "class InventoryItem(BaseModel):\n",
    "    \"\"\"Class for keeping track of an item in inventory.\"\"\"\n",
    "    name: str\n",
    "    unit_price: float\n",
    "    quantity_on_hand: int = 0\n",
    "\n",
    "data:dict={\n",
    "    \"name\":\"手機套\",\n",
    "    \"unit_price\":\"150.5\",\n",
    "    \"quantity_on_hand\":'15'\n",
    "}\n",
    "try:\n",
    "    item2=InventoryItem.model_validate(data)\n",
    "except ValidationError as e:\n",
    "    print(e)\n",
    "else:        \n",
    "    print(item2)\n"
   ]
  },
  {
   "cell_type": "code",
   "execution_count": 10,
   "metadata": {},
   "outputs": [
    {
     "name": "stdout",
     "output_type": "stream",
     "text": [
      "1 validation error for InventoryItem\n",
      "  Invalid JSON: expected value at line 5 column 24 [type=json_invalid, input_value='\\n{\\n    \"name\":\"手機...ty_on_hand\":\\'15\\'\\n}\\n', input_type=str]\n",
      "    For further information visit https://errors.pydantic.dev/2.7/v/json_invalid\n"
     ]
    }
   ],
   "source": [
    "from pydantic import BaseModel\n",
    "\n",
    "class InventoryItem(BaseModel):\n",
    "    \"\"\"Class for keeping track of an item in inventory.\"\"\"\n",
    "    name: str\n",
    "    unit_price: float\n",
    "    quantity_on_hand: int = 0\n",
    "\n",
    "data_json:str='''\n",
    "{\n",
    "    \"name\":\"手機套\",\n",
    "    \"unit_price\":\"150.5\",\n",
    "    \"quantity_on_hand\":'15'\n",
    "}\n",
    "'''\n",
    "try:\n",
    "    item3=InventoryItem.model_validate_json(data_json)\n",
    "except ValidationError as e:\n",
    "    print(e)    \n",
    "else:    \n",
    "    print(item3)\n"
   ]
  },
  {
   "cell_type": "code",
   "execution_count": 11,
   "metadata": {},
   "outputs": [
    {
     "name": "stdout",
     "output_type": "stream",
     "text": [
      "name='手機套' unit_price=150.5 quantity_on_hand=0\n"
     ]
    }
   ],
   "source": [
    "class InventoryItem(BaseModel):\n",
    "    \"\"\"Class for keeping track of an item in inventory.\"\"\"\n",
    "    name: str\n",
    "    unit_price: float\n",
    "    quantity_on_hand: int = 0 #optional(資料可有可無)\n",
    "\n",
    "data_json:str = '''\n",
    "{\n",
    "    \"name\":\"手機套\",\n",
    "    \"unit_price\":\"150.5\"\n",
    "}\n",
    "'''\n",
    "item4 = InventoryItem.model_validate_json(data_json)\n",
    "print(item4)"
   ]
  },
  {
   "cell_type": "code",
   "execution_count": 12,
   "metadata": {},
   "outputs": [
    {
     "name": "stdout",
     "output_type": "stream",
     "text": [
      "name='手機套' unit_price=150.5 quantity_on_hand=None\n"
     ]
    }
   ],
   "source": [
    "class InventoryItem(BaseModel):\n",
    "    \"\"\"Class for keeping track of an item in inventory.\"\"\"\n",
    "    name: str\n",
    "    unit_price: float\n",
    "    quantity_on_hand: int | None = None #optional(資料可有可無)\n",
    "\n",
    "data_json:str = '''\n",
    "{\n",
    "    \"name\":\"手機套\",\n",
    "    \"unit_price\":\"150.5\"\n",
    "}\n",
    "'''\n",
    "item5 = InventoryItem.model_validate_json(data_json)\n",
    "print(item5)"
   ]
  }
 ],
 "metadata": {
  "kernelspec": {
   "display_name": "venv1",
   "language": "python",
   "name": "python3"
  },
  "language_info": {
   "codemirror_mode": {
    "name": "ipython",
    "version": 3
   },
   "file_extension": ".py",
   "mimetype": "text/x-python",
   "name": "python",
   "nbconvert_exporter": "python",
   "pygments_lexer": "ipython3",
   "version": "3.10.14"
  }
 },
 "nbformat": 4,
 "nbformat_minor": 2
}
