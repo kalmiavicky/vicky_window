with open("data.json", "r") as data:
    data = data.read()
print(data)
