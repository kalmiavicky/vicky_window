with open("data.json", "r") as data:
    data = data.read()
print(data)

from pydantic import BaseModel, Field
from typing import List
import json

# 定義 Address 模型
class Address(BaseModel):

    
    street: str
    city: str
    zipcode: str

# 定義 Project 模型
class Project(BaseModel):
    name: str
    status: str

# 定義 person 模型
class person(BaseModel):
    name: str
    age: int
    address: Address
    projects: List[Project]




# 使用 Pydantic 模型解析 JSON 數據
user = User.model_validate(data)

# 將 Pydantic 模型轉換為 dict
user_dict = user.dict()

# 打印結果
print(user_dict)
