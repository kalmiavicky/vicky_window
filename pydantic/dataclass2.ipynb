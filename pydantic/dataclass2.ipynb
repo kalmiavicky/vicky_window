{
 "cells": [
  {
   "cell_type": "code",
   "execution_count": 1,
   "metadata": {},
   "outputs": [
    {
     "ename": "SyntaxError",
     "evalue": "expected ':' (92290630.py, line 13)",
     "output_type": "error",
     "traceback": [
      "\u001b[1;36m  Cell \u001b[1;32mIn[1], line 13\u001b[1;36m\u001b[0m\n\u001b[1;33m    else\u001b[0m\n\u001b[1;37m        ^\u001b[0m\n\u001b[1;31mSyntaxError\u001b[0m\u001b[1;31m:\u001b[0m expected ':'\n"
     ]
    }
   ],
   "source": [
    "class Student(person):\n",
    "    @classmethod\n",
    "    def get_student(cls,name:str,age:int,scores:int):\n",
    "        return Student(n=name,a=age,scores=scores)\n",
    "        \n",
    "    def __init__(self,n:str,a:int,scores:int):\n",
    "        ssuper().__init__(n,a) \n",
    "        self.scores = scores\n",
    "\n",
    "    def __repr__(self):\n",
    "        if self.scores >=60:\n",
    "            return \"及格\"\n",
    "        else\n",
    "            return \"不及格\"\n",
    "        \n",
    "    \n",
    "#\n",
    "s1=Student(\"藍天白雲\",a=)   "
   ]
  }
 ],
 "metadata": {
  "kernelspec": {
   "display_name": "venv1",
   "language": "python",
   "name": "python3"
  },
  "language_info": {
   "codemirror_mode": {
    "name": "ipython",
    "version": 3
   },
   "file_extension": ".py",
   "mimetype": "text/x-python",
   "name": "python",
   "nbconvert_exporter": "python",
   "pygments_lexer": "ipython3",
   "version": "3.10.14"
  }
 },
 "nbformat": 4,
 "nbformat_minor": 2
}
