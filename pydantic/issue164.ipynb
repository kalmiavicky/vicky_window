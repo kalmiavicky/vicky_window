{
 "cells": [
  {
   "cell_type": "code",
   "execution_count": 2,
   "metadata": {},
   "outputs": [
    {
     "name": "stdout",
     "output_type": "stream",
     "text": [
      "{\n",
      "    \"name\": \"Alice\",\n",
      "    \"age\": 30,\n",
      "    \"address\": {\n",
      "        \"street\": \"123 Main St\",\n",
      "        \"city\": \"Springfield\",\n",
      "        \"zipcode\": \"12345\"\n",
      "    },\n",
      "    \"projects\": [\n",
      "        {\n",
      "            \"name\": \"Project A\",\n",
      "            \"status\": \"completed\"\n",
      "        },\n",
      "        {\n",
      "            \"name\": \"Project B\",\n",
      "            \"status\": \"ongoing\"\n",
      "        }\n",
      "    ]\n",
      "}\n"
     ]
    }
   ],
   "source": [
    "with open(\"data.json\", \"r\") as data:\n",
    "    data = data.read()\n",
    "print(data)\n",
    "\n"
   ]
  },
  {
   "cell_type": "code",
   "execution_count": 6,
   "metadata": {},
   "outputs": [
    {
     "ename": "NameError",
     "evalue": "name 'Person' is not defined",
     "output_type": "error",
     "traceback": [
      "\u001b[1;31m---------------------------------------------------------------------------\u001b[0m",
      "\u001b[1;31mNameError\u001b[0m                                 Traceback (most recent call last)",
      "Cell \u001b[1;32mIn[6], line 33\u001b[0m\n\u001b[0;32m     12\u001b[0m     status: \u001b[38;5;28mstr\u001b[39m\n\u001b[0;32m     14\u001b[0m \u001b[38;5;66;03m# # 定義 person 模型\u001b[39;00m\n\u001b[0;32m     15\u001b[0m \u001b[38;5;66;03m# class person(BaseModel):\u001b[39;00m\n\u001b[0;32m     16\u001b[0m \u001b[38;5;66;03m#     name: str\u001b[39;00m\n\u001b[1;32m   (...)\u001b[0m\n\u001b[0;32m     31\u001b[0m \u001b[38;5;66;03m# # 打印結果\u001b[39;00m\n\u001b[0;32m     32\u001b[0m \u001b[38;5;66;03m# print(user_dict)\u001b[39;00m\n\u001b[1;32m---> 33\u001b[0m p2 \u001b[38;5;241m=\u001b[39m \u001b[43mPerson\u001b[49m\u001b[38;5;241m.\u001b[39mmodel_validate_json(data)\n\u001b[0;32m     34\u001b[0m \u001b[38;5;28mprint\u001b[39m(p2)\n",
      "\u001b[1;31mNameError\u001b[0m: name 'Person' is not defined"
     ]
    }
   ],
   "source": [
    "from pydantic import BaseModel, Field\n",
    "import json\n",
    "\n",
    "# 定義 Address 模型\n",
    "class Address(BaseModel):\n",
    "    street: str\n",
    "    city: str\n",
    "    zipcode: str\n",
    "\n",
    "# 定義 Project 模型\n",
    "class Project(BaseModel):\n",
    "    name: str\n",
    "    status: str\n",
    "\n",
    "# 定義 person 模型\n",
    "class person(BaseModel):\n",
    "    name: str\n",
    "    age: int\n",
    "    address: Address\n",
    "    projects: List[Project]\n",
    "\n",
    "\n",
    "# # # 使用 Pydantic 模型解析 JSON 數據\n",
    "# # user = User.model_validate(data)\n",
    "\n",
    "# # # 將 Pydantic 模型轉換為 dict\n",
    "# # user_dict = user.dict()\n",
    "# data:AQI = AQI.model_validate_json(res.text)\n",
    "# records:list[Site] = data.records\n",
    "# for record in records:\n",
    "#     print(record)\n",
    "# # 打印結果\n",
    "# print(user_dict)\n",
    "p2 = Person.model_validate_json(data)\n",
    "print(p2)\n"
   ]
  }
 ],
 "metadata": {
  "kernelspec": {
   "display_name": "Python 3",
   "language": "python",
   "name": "python3"
  },
  "language_info": {
   "codemirror_mode": {
    "name": "ipython",
    "version": 3
   },
   "file_extension": ".py",
   "mimetype": "text/x-python",
   "name": "python",
   "nbconvert_exporter": "python",
   "pygments_lexer": "ipython3",
   "version": "3.10.14"
  }
 },
 "nbformat": 4,
 "nbformat_minor": 2
}
