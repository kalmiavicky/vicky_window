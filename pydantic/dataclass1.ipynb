{
 "cells": [
  {
   "cell_type": "code",
   "execution_count": 12,
   "metadata": {},
   "outputs": [
    {
     "name": "stdout",
     "output_type": "stream",
     "text": [
      "我的姓名:藍天白雲\n",
      "我的age:18\n",
      "\n"
     ]
    }
   ],
   "source": [
    "class Person():\n",
    "    def __init__(self,name:str,age:int):\n",
    "        self.__name = name\n",
    "        self.age = age\n",
    "\n",
    "    def __repr__(self):\n",
    "        message = ''\n",
    "        message += f\"我的姓名:{self.name}\\n\"\n",
    "        message += f\"我的age:{self.age}\\n\"\n",
    "        return message\n",
    "    \n",
    "    @property\n",
    "    def name(self)->str:\n",
    "        return self.__name\n",
    "    \n",
    "p1:Person = Person(age=25,name=\"藍天白雲\")\n",
    "p1.age = 18\n",
    "print(p1)     "
   ]
  },
  {
   "cell_type": "code",
   "execution_count": 13,
   "metadata": {},
   "outputs": [
    {
     "name": "stdout",
     "output_type": "stream",
     "text": [
      "及格\n",
      "不及格\n"
     ]
    }
   ],
   "source": [
    "class Student(Person):\n",
    "    @classmethod\n",
    "    def get_student(cls,name:str,age:int,scores:int):\n",
    "        return Student(n=name, a=age, scores=scores)\n",
    "\n",
    "    def __init__(self,n:str,a:int,scores:int):\n",
    "        super().__init__(n,a)\n",
    "        self.scores = scores\n",
    "\n",
    "    def get_level(self)->str:\n",
    "        if self.scores >= 60:\n",
    "            return \"及格\"\n",
    "        else:\n",
    "            return \"不及格\"\n",
    "        \n",
    "#透過init建立的\n",
    "s1 = Student(\"藍天白雲\",a=30,scores=80)\n",
    "print(s1.get_level())\n",
    "\n",
    "#透過classmethod,建立實體\n",
    "s2 = Student.get_student(\"robert\",43,59)\n",
    "print(s2.get_level())"
   ]
  }
 ],
 "metadata": {
  "kernelspec": {
   "display_name": "venv1",
   "language": "python",
   "name": "python3"
  },
  "language_info": {
   "codemirror_mode": {
    "name": "ipython",
    "version": 3
   },
   "file_extension": ".py",
   "mimetype": "text/x-python",
   "name": "python",
   "nbconvert_exporter": "python",
   "pygments_lexer": "ipython3",
   "version": "3.10.14"
  }
 },
 "nbformat": 4,
 "nbformat_minor": 2
}
