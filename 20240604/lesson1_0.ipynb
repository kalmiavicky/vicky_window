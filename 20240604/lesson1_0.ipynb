{
 "cells": [
  {
   "cell_type": "code",
   "execution_count": null,
   "metadata": {},
   "outputs": [],
   "source": [
    "import json\n",
    "from pydantic import BaseModel, Field\n",
    "from typing import List\n",
    "\n",
    "\n",
    "class Projects(BaseModel):\n",
    "    name: str\n",
    "    status: str\n",
    "\n",
    "\n",
    "class Address(BaseModel):\n",
    "    street: str\n",
    "    city: str\n",
    "    zipcode: str\n",
    "\n",
    "\n",
    "class Person(BaseModel):\n",
    "    name: str = Field(alias=\"name\")\n",
    "    age: int = Field(alias=\"age\")\n",
    "    address: Address\n",
    "    projects: List[Projects]\n",
    "\n",
    "\n",
    "with open(\"data.json\", \"r\") as file:\n",
    "    data = json.load(file)\n",
    "\n",
    "person = Person.parse_obj(data)\n",
    "\n",
    "dict_data = person.dict()\n",
    "print(dict_data)"
   ]
  }
 ],
 "metadata": {
  "kernelspec": {
   "display_name": "venv1",
   "language": "python",
   "name": "python3"
  },
  "language_info": {
   "name": "python",
   "version": "3.10.14"
  }
 },
 "nbformat": 4,
 "nbformat_minor": 2
}
