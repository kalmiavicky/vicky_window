{
 "cells": [
  {
   "cell_type": "code",
   "execution_count": 21,
   "metadata": {},
   "outputs": [],
   "source": [
    "\n",
    "import requests\n",
    "from  requests import JSONDecodeError\n",
    "from pprint import pprint\n",
    "def download_json()->dict[any]:\n",
    "    aqi_url = 'https://data.moenv.gov.tw/api/v2/aqx_p_488?api_key=e8dd42e6-9b8b-43f8-991e-b3dee723a52d&limit=1000&sort=datacreationdate desc&format=JSON'\n",
    "    try:\n",
    "        response = requests.get(aqi_url)\n",
    "    except Exception:\n",
    "        raise Exception(\"連線失敗\")\n",
    "    else:\n",
    "        if response.status_code == 200:\n",
    "            try:\n",
    "                all_data:dict[any] = response.json()\n",
    "                return all_data\n",
    "            except JSONDecodeError:\n",
    "                raise Exception(\"api_key為測試用,連線已至上限,請稍後再試\")\n",
    "        else:\n",
    "            raise Exception(\"下載狀態碼不是200\")"
   ]
  },
  {
   "cell_type": "code",
   "execution_count": null,
   "metadata": {},
   "outputs": [],
   "source": [
    "try:\n",
    "    all_data:dict[any] = download_json()\n",
    "    pprint(all_data['records'])\n",
    "except Exception as error:\n",
    "    print(error)"
   ]
  },
  {
   "cell_type": "code",
   "execution_count": 27,
   "metadata": {},
   "outputs": [
    {
     "ename": "NameError",
     "evalue": "name 'error' is not defined",
     "output_type": "error",
     "traceback": [
      "\u001b[1;31m---------------------------------------------------------------------------\u001b[0m",
      "\u001b[1;31mNameError\u001b[0m                                 Traceback (most recent call last)",
      "Cell \u001b[1;32mIn[27], line 25\u001b[0m\n\u001b[0;32m     22\u001b[0m records:Records \u001b[38;5;241m=\u001b[39m Records\u001b[38;5;241m.\u001b[39mmodel_validate(all_data[\u001b[38;5;124m'\u001b[39m\u001b[38;5;124mrecords\u001b[39m\u001b[38;5;124m'\u001b[39m])\n\u001b[0;32m     24\u001b[0m data \u001b[38;5;241m=\u001b[39m records\u001b[38;5;241m.\u001b[39mmodel_dump()\n\u001b[1;32m---> 25\u001b[0m \u001b[38;5;28mprint\u001b[39m(\u001b[43merror\u001b[49m)\n",
      "\u001b[1;31mNameError\u001b[0m: name 'error' is not defined"
     ]
    }
   ],
   "source": [
    "\n",
    "from pydantic import BaseModel,RootModel,Field,field_validator\n",
    "\n",
    "class Site(BaseModel):\n",
    "    site_name:str = Field(alias='sitename')\n",
    "    county:str\n",
    "    aqi:int\n",
    "    status:str\n",
    "    pm25:float = Field(alias='pm2.5')\n",
    "\n",
    "    @field_validator(\"pm25\",mode='before')\n",
    "    @classmethod\n",
    "    def abc(cls, value:str)->str:\n",
    "        if value==\"\":\n",
    "            return \"0.0\"\n",
    "        else:\n",
    "            return value\n",
    "\n",
    "\n",
    "class Records(RootModel):\n",
    "    root:list[Site]\n",
    "\n",
    "records:Records = Records.model_validate(all_data['records'])\n",
    "\n",
    "data = records.model_dump()\n"
   ]
  }
 ],
 "metadata": {
  "kernelspec": {
   "display_name": "venv1",
   "language": "python",
   "name": "python3"
  },
  "language_info": {
   "codemirror_mode": {
    "name": "ipython",
    "version": 3
   },
   "file_extension": ".py",
   "mimetype": "text/x-python",
   "name": "python",
   "nbconvert_exporter": "python",
   "pygments_lexer": "ipython3",
   "version": "3.10.14"
  }
 },
 "nbformat": 4,
 "nbformat_minor": 2
}
