{
 "cells": [
  {
   "cell_type": "code",
   "execution_count": 32,
   "metadata": {},
   "outputs": [
    {
     "name": "stdout",
     "output_type": "stream",
     "text": [
      "<class '__main__.Person'>\n",
      "p1.name=徐國堂\n",
      "p2.name=Robert Hsu\n"
     ]
    }
   ],
   "source": [
    "class Person():\n",
    "    def __init__(self,n:str):\n",
    "        self.name = n\n",
    "\n",
    "    def __repr__(self):\n",
    "        return f\"我是Person的實體,我的名字是:{self.name}\"\n",
    "\n",
    "\n",
    "p1:Person = Person(\"徐國堂\")\n",
    "print(type(p1))\n",
    "print(f\"p1.name={p1.name}\")\n",
    "\n",
    "p2:Person = Person(\"Robert Hsu\")\n",
    "p2.name\n",
    "print(f\"p2.name={p2.name}\")"
   ]
  },
  {
   "cell_type": "markdown",
   "metadata": {},
   "source": []
  },
  {
   "cell_type": "code",
   "execution_count": 43,
   "metadata": {},
   "outputs": [
    {
     "name": "stdout",
     "output_type": "stream",
     "text": [
      "徐國堂\n",
      "Robert Hsu\n"
     ]
    }
   ],
   "source": [
    "#可以改寫分數~~\n",
    "\"\"\"\n",
    "class Student(Person):\n",
    "    def __init__(self,name:str,chinese:int,english:int,math:int):\n",
    "        super().__init__(n=name)\n",
    "        self.chinese = chinese\n",
    "        self.english = english\n",
    "        self.math = math\n",
    "\n",
    "    def __repr__(self):\n",
    "        message = f\"我是Student的實體,我的名字是:{self.name}\\n\"\n",
    "        message += f\"國文分數:{self.chinese}\\n\"\n",
    "        message += f\"英文分數:{self.english}\\n\"\n",
    "        message += f\"數學分數:{self.math}\\n\"\n",
    "        return message\n",
    "\n",
    "s1:Student = Student(name=\"徐國堂\",chinese=89,english=72,math=94)\n",
    "print(s1.name)\n",
    "\n",
    "\n",
    "s2:Student = Student(name=\"Robert Hsu\",math=65,english=92,chinese=84)\n",
    "print(s2.name)\n",
    "\"\"\""
   ]
  },
  {
   "cell_type": "code",
   "execution_count": null,
   "metadata": {},
   "outputs": [],
   "source": []
  },
  {
   "cell_type": "code",
   "execution_count": 44,
   "metadata": {},
   "outputs": [
    {
     "name": "stdout",
     "output_type": "stream",
     "text": [
      "我是Person的實體,我的名字是:徐國堂\n",
      "我是Student的實體,我的名字是:徐國堂\n",
      "國文分數:89\n",
      "英文分數:72\n",
      "數學分數:94\n",
      "\n",
      "我是Person的實體,我的名字是:Robert Hsu\n",
      "我是Student的實體,我的名字是:Robert Hsu\n",
      "國文分數:84\n",
      "英文分數:92\n",
      "數學分數:65\n",
      "\n"
     ]
    }
   ],
   "source": [
    "\"\"\"\n",
    "print(p1)\n",
    "print(s1)\n",
    "\n",
    "print(p2)\n",
    "print(s2)\n",
    "\"\"\""
   ]
  },
  {
   "cell_type": "code",
   "execution_count": 47,
   "metadata": {},
   "outputs": [
    {
     "data": {
      "text/plain": [
       "我是Student的實體,我的名字是:徐國堂\n",
       "國文分數:100\n",
       "英文分數:100\n",
       "數學分數:100"
      ]
     },
     "execution_count": 47,
     "metadata": {},
     "output_type": "execute_result"
    }
   ],
   "source": [
    "#attribute是可以更改內容\n",
    "s1.chinese=100\n",
    "s1.english=100\n",
    "s1.math=100\n",
    "s1\n"
   ]
  },
  {
   "cell_type": "code",
   "execution_count": 62,
   "metadata": {},
   "outputs": [
    {
     "name": "stdout",
     "output_type": "stream",
     "text": [
      "徐國堂\n",
      "Robert Hsu\n"
     ]
    }
   ],
   "source": [
    "#可以不可改分數~~property只可讀不可以改\n",
    "class Student(Person):\n",
    "    def __init__(self,name:str,chinese:int,english:int,math:int):\n",
    "        super().__init__(n=name)\n",
    "        self.__chinese = chinese\n",
    "        self.__english = english\n",
    "        self.__math = math\n",
    "\n",
    "    @property\n",
    "    def chinese(self):\n",
    "        return self.__chinese\n",
    "\n",
    "    @property\n",
    "    def english(self):\n",
    "        return self.__english\n",
    "\n",
    "    @property\n",
    "    def math(self):\n",
    "        return self.__math\n",
    "    \n",
    "    @property\n",
    "    def scores(self):\n",
    "        return self.__chinese + self.__english + self.__math\n",
    "    \n",
    "    #自訂實體的方法(method)\n",
    "    def average(self):\n",
    "        return self.scores / 3\n",
    "        \n",
    "\n",
    "\n",
    "        \n",
    "\n",
    "\n",
    "    def __repr__(self):\n",
    "        message = f\"我是Student的實體,我的名字是:{self.name}\\n\"\n",
    "        message += f\"國文分數:{self.chinese}\\n\"\n",
    "        message += f\"英文分數:{self.english}\\n\"\n",
    "        message += f\"數學分數:{self.math}\\n\"\n",
    "        return message\n",
    "\n",
    "s1:Student = Student(name=\"徐國堂\",chinese=68,english=62,math=67)\n",
    "print(s1.name)\n",
    "\n",
    "\n",
    "s2:Student = Student(name=\"Robert Hsu\",math=65,english=92,chinese=84)\n",
    "print(s2.name)"
   ]
  },
  {
   "cell_type": "code",
   "execution_count": 64,
   "metadata": {},
   "outputs": [
    {
     "name": "stdout",
     "output_type": "stream",
     "text": [
      "我是Student的實體,我的名字是:徐國堂\n",
      "國文分數:68\n",
      "英文分數:62\n",
      "數學分數:67\n",
      "\n",
      "總分：197\n",
      "平均:65.66666666666667\n"
     ]
    }
   ],
   "source": [
    "#property可以設定不可以更改內容\n",
    "#s1.chinese=100\n",
    "#s1.english=100\n",
    "#s1.math=100\n",
    "\n",
    "print(s1)\n",
    "print(f\"總分：{s1.scores}\") #property\n",
    "print(f\"平均:{s1.average()}\") #自訂實體的方法(method)\n",
    "\n",
    "\n",
    "\n"
   ]
  }
 ],
 "metadata": {
  "kernelspec": {
   "display_name": "venv1",
   "language": "python",
   "name": "python3"
  },
  "language_info": {
   "codemirror_mode": {
    "name": "ipython",
    "version": 3
   },
   "file_extension": ".py",
   "mimetype": "text/x-python",
   "name": "python",
   "nbconvert_exporter": "python",
   "pygments_lexer": "ipython3",
   "version": "3.10.14"
  }
 },
 "nbformat": 4,
 "nbformat_minor": 2
}
