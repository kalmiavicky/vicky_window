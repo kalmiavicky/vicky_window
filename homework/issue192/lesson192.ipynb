{
 "cells": [
  {
   "cell_type": "code",
   "execution_count": 24,
   "metadata": {},
   "outputs": [],
   "source": [
    "\n",
    "import requests\n",
    "from  requests import JSONDecodeError\n",
    "\n",
    "def download_json()->dict[any]:\n",
    "    aqi_url = 'https://tcgbusfs.blob.core.windows.net/dotapp/youbike/v2/youbike_immediate.json'\n",
    "    try:\n",
    "        response = requests.get(aqi_url)\n",
    "    except Exception:\n",
    "        raise Exception(\"連線失敗\")\n",
    "    else:\n",
    "        if response.status_code == 200:\n",
    "            try:\n",
    "                all_data:dict[any] = response.json()\n",
    "                return all_data\n",
    "            except JSONDecodeError:\n",
    "                raise Exception(\"api_key為測試用,連線已至上限,請稍後再試\")\n",
    "        else:\n",
    "            raise Exception(\"下載狀態碼不是200\")"
   ]
  },
  {
   "cell_type": "code",
   "execution_count": 25,
   "metadata": {},
   "outputs": [],
   "source": [
    "try:\n",
    "    all_data:dict[any] = download_json()\n",
    "  \n",
    "except Exception as error:\n",
    "    print(error)"
   ]
  },
  {
   "cell_type": "code",
   "execution_count": null,
   "metadata": {},
   "outputs": [],
   "source": [
    "from pydantic import BaseModel, RootModel, Field\n",
    "\n",
    "class Site(BaseModel):\n",
    "    sna: str\n",
    "    sarea: str\n",
    "    mday:str\n",
    "    ar:str\n",
    "    act:str\n",
    "    updateTime:str\n",
    "    total:int\n",
    "    available_rent_bikes:int\n",
    "    latitude : float\n",
    "    longitude: float\n",
    "    available_return_bikes:int\n",
    "    \n",
    "\n",
    "\n",
    "class Records(RootModel):\n",
    "    root: list[Site]\n",
    "\n",
    "\n",
    "\n",
    "records:Records = Records.model_validate(all_data)\n",
    "data = records.model_dump()\n",
    "data\n",
    "\n",
    "\n",
    "\n",
    "\n"
   ]
  }
 ],
 "metadata": {
  "kernelspec": {
   "display_name": "venv1",
   "language": "python",
   "name": "python3"
  },
  "language_info": {
   "codemirror_mode": {
    "name": "ipython",
    "version": 3
   },
   "file_extension": ".py",
   "mimetype": "text/x-python",
   "name": "python",
   "nbconvert_exporter": "python",
   "pygments_lexer": "ipython3",
   "version": "3.10.14"
  }
 },
 "nbformat": 4,
 "nbformat_minor": 2
}
