{
 "cells": [
  {
   "cell_type": "code",
   "execution_count": 3,
   "metadata": {},
   "outputs": [],
   "source": [
    "#1\n",
    "import psycopg2\n",
    "from dotenv import load_dotenv\n",
    "import os\n",
    "\n",
    "load_dotenv()\n",
    "\n",
    "conn = psycopg2.connect(os.environ['POSTGRESQL_TOKEN'])\n",
    "\n",
    "cursor = conn.cursor()\n",
    "SQL='''\n",
    "CREATE TABLE IF NOT EXISTS student(\n",
    "\tstudent_id SERIAL PRIMARY KEY,\n",
    "\tname VARCHAR(20) NOT NULL,\n",
    "\tmajor VARCHAR(20)\n",
    ");\n",
    "\n",
    "'''\n",
    "cursor.execute(SQL)\n",
    "conn.commit() ##手動commit\n",
    "cursor.close() ##手動close\n",
    "conn.close()##手動close()"
   ]
  },
  {
   "cell_type": "code",
   "execution_count": 7,
   "metadata": {},
   "outputs": [],
   "source": [
    "#2\n",
    "import psycopg2\n",
    "from dotenv import load_dotenv\n",
    "import os\n",
    "\n",
    "load_dotenv()\n",
    "\n",
    "conn = psycopg2.connect(os.environ['POSTGRESQL_TOKEN'])\n",
    "\n",
    "with conn: #with conn會自動commit()\n",
    "    cursor = conn.cursor()\n",
    "    sql='''\n",
    "    CREATE TABLE IF NOT EXISTS student(\n",
    "        student_id Serial Primary Key,\n",
    "        name VARCHAR(20) NOT NULL,\n",
    "        major VARCHAR(20)\n",
    "    );\n",
    "    '''\n",
    "    cursor.execute(sql)\n",
    "    cursor.close()\n",
    "conn.close()"
   ]
  },
  {
   "cell_type": "code",
   "execution_count": 9,
   "metadata": {},
   "outputs": [],
   "source": [
    "#3\n",
    "import psycopg2\n",
    "from dotenv import load_dotenv\n",
    "import os\n",
    "\n",
    "load_dotenv()\n",
    "\n",
    "with psycopg2.connect(os.environ['POSTGRESQL_TOKEN']) as conn: #with conn會自動commit(), 自動close()\n",
    "\n",
    "\n",
    "\n",
    "\n",
    "    cursor = conn.cursor()\n",
    "    sql='''\n",
    "    CREATE TABLE IF NOT EXISTS student(\n",
    "        student_id Serial Primary Key,\n",
    "        name VARCHAR(20) NOT NULL,\n",
    "        major VARCHAR(20)\n",
    "    );\n",
    "    '''\n",
    "    cursor.execute(sql)\n",
    "    cursor.close()"
   ]
  },
  {
   "cell_type": "code",
   "execution_count": 11,
   "metadata": {},
   "outputs": [],
   "source": [
    "#4\n",
    "\n",
    "import psycopg2\n",
    "from dotenv import load_dotenv\n",
    "import os\n",
    "\n",
    "load_dotenv()\n",
    "\n",
    "conn = psycopg2.connect(os.environ['POSTGRESQL_TOKEN'])\n",
    "\n",
    "\n",
    "with conn: #with conn會自動commit(),手動close\n",
    "    with conn.cursor() as cursor: #自動close()\n",
    "        sql='''\n",
    "        CREATE TABLE IF NOT EXISTS student(\n",
    "            student_id Serial Primary Key,\n",
    "            name VARCHAR(20) NOT NULL,\n",
    "            major VARCHAR(20)\n",
    "        );\n",
    "        '''\n",
    "        cursor.execute(sql)\n",
    "    \n",
    "conn.close()"
   ]
  }
 ],
 "metadata": {
  "kernelspec": {
   "display_name": "venv1",
   "language": "python",
   "name": "python3"
  },
  "language_info": {
   "codemirror_mode": {
    "name": "ipython",
    "version": 3
   },
   "file_extension": ".py",
   "mimetype": "text/x-python",
   "name": "python",
   "nbconvert_exporter": "python",
   "pygments_lexer": "ipython3",
   "version": "3.10.14"
  }
 },
 "nbformat": 4,
 "nbformat_minor": 2
}
