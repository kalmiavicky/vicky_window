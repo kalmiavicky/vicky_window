{
 "cells": [
  {
   "cell_type": "code",
   "execution_count": 1,
   "metadata": {},
   "outputs": [
    {
     "data": {
      "text/plain": [
       "[25, 15, 9, 7, 3]"
      ]
     },
     "execution_count": 1,
     "metadata": {},
     "output_type": "execute_result"
    }
   ],
   "source": [
    "li1 = [3, 15, 7, 9, 25]\n",
    "li1.sort(reverse=True)\n",
    "li1"
   ]
  },
  {
   "cell_type": "code",
   "execution_count": 2,
   "metadata": {},
   "outputs": [
    {
     "data": {
      "text/plain": [
       "[3, 7, 9, 15, 25]"
      ]
     },
     "execution_count": 2,
     "metadata": {},
     "output_type": "execute_result"
    }
   ],
   "source": [
    "li2 = [3, 15, 7, 9, 25]\n",
    "new_li2 = sorted(li2)\n",
    "new_li2"
   ]
  },
  {
   "cell_type": "code",
   "execution_count": 3,
   "metadata": {},
   "outputs": [
    {
     "data": {
      "text/plain": [
       "[{'name': 'Dave', 'age': 35},\n",
       " {'name': 'John', 'age': 30},\n",
       " {'name': 'Jane', 'age': 25}]"
      ]
     },
     "execution_count": 3,
     "metadata": {},
     "output_type": "execute_result"
    }
   ],
   "source": [
    "people = [\n",
    "    {\"name\": \"John\", \"age\": 30},\n",
    "    {\"name\": \"Jane\", \"age\": 25},\n",
    "    {\"name\": \"Dave\", \"age\": 35}\n",
    "]\n",
    "\n",
    "def sort_key(value:dict)->int:\n",
    "    return value['age']\n",
    "\n",
    "new_people = sorted(people,key=sort_key,reverse=True)\n",
    "new_people"
   ]
  },
  {
   "cell_type": "code",
   "execution_count": 5,
   "metadata": {},
   "outputs": [
    {
     "data": {
      "text/plain": [
       "[{'name': 'Dave', 'age': 35},\n",
       " {'name': 'John', 'age': 30},\n",
       " {'name': 'Jane', 'age': 25}]"
      ]
     },
     "execution_count": 5,
     "metadata": {},
     "output_type": "execute_result"
    }
   ],
   "source": [
    "people = [\n",
    "    {\"name\": \"John\", \"age\": 30},\n",
    "    {\"name\": \"Jane\", \"age\": 25},\n",
    "    {\"name\": \"Dave\", \"age\": 35}\n",
    "]\n",
    "\n",
    "\n",
    "#lambda -> 暱名的function\n",
    "new_people = sorted(people,key=lambda value:value['age'],reverse=True)\n",
    "new_people"
   ]
  },
  {
   "cell_type": "code",
   "execution_count": 2,
   "metadata": {},
   "outputs": [
    {
     "data": {
      "text/plain": [
       "42613"
      ]
     },
     "execution_count": 2,
     "metadata": {},
     "output_type": "execute_result"
    }
   ],
   "source": [
    "from datetime import datetime\n",
    "\n",
    "now = datetime.now()\n",
    "diff = now-datetime(2024,6,6)\n",
    "diff.seconds\n"
   ]
  }
 ],
 "metadata": {
  "kernelspec": {
   "display_name": "venv1",
   "language": "python",
   "name": "python3"
  },
  "language_info": {
   "codemirror_mode": {
    "name": "ipython",
    "version": 3
   },
   "file_extension": ".py",
   "mimetype": "text/x-python",
   "name": "python",
   "nbconvert_exporter": "python",
   "pygments_lexer": "ipython3",
   "version": "3.10.14"
  }
 },
 "nbformat": 4,
 "nbformat_minor": 2
}
